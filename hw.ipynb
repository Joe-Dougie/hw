{
 "cells": [
  {
   "cell_type": "code",
   "execution_count": null,
   "id": "682657cc",
   "metadata": {},
   "outputs": [],
   "source": [
    "In-class Exercise\n",
    "Print each persons name and twitter handle etc., using groups, should look like:"
   ]
  },
  {
   "cell_type": "code",
   "execution_count": null,
   "id": "702c761b",
   "metadata": {},
   "outputs": [],
   "source": [
    "import re\n",
    "file = open('./names.txt', encoding= 'utf-8)\n",
    "data = file.read()\n",
    "file.close\n",
    "# [\n",
    "#     ([first name] [last name],\n",
    "#      email, \n",
    "#      phone,\n",
    "#      title,\n",
    "#      Twitter handle)\n",
    "# ]\n",
    "\n",
    "information = \"\"\"\n",
    "Hawkins, Derek\tderek@codingtemple.com\t(555) 555-5555\tTeacher, Coding Temple\t@derekhawkins\n",
    "Milliken, Connor\tconnor@codingtemple.com\t(555) 555-5554\tTeacher, Coding Temple\n",
    "Johnson, Joe\tjoejohnson@codingtemple.com\t\tCarter, Joel\n",
    "Österberg, Sven-Erik\tgovernor@norrbotten.co.se\t\tGovernor, Norrbotten\t@sverik\n",
    ", Tim\ttim@killerrabbit.com\t\tEnchanter, Killer Rabbit Cave\n",
    "Butz, Ryan\tryanb@codingtemple.com\t(555) 555-5543\tCEO, Coding Temple\t@ryanbutz\n",
    "Doctor, The\tdoctor+companion@tardis.co.uk\t\tTime Lord, Gallifrey\n",
    "Exampleson, Example\tme@example.com\t555-555-5552\tExample, Example Co.\t@example\n",
    "Obama, Barack\tpresident.44@us.gov\t555 555-5551\tPresident, United States of America\t@potus44\n",
    "Patel, Ripal\tripalp@codingtemple.com\t(555) 555-5553\tTeacher, Coding Temple\t@ripalp\n",
    "Vader, Darth\tdarth-vader@empire.gov\t(555) 555-4444\tSith Lord, Galactic Empire\t@darthvader\n",
    "Fernández de la Vega Sanz, María Teresa\tmtfvs@spain.gov\t\tFirst Deputy Prime Minister, Spanish Govt.\n",
    "\"\"\"\n",
    "\n",
    "info = re.findall('''\n",
    "    ([\\w]+,\\s[\\w]+)                     # last_name, first_name\n",
    "    (\\s[\\d\\w\\'-+.]+@[-.\\w\\d]+)          # email\n",
    "    (\\s:\\s\\(?\\d{3}\\)?\\s?-?\\d{3}-\\d{4})  # phone\n",
    "    ([\\w]+)                             # title\n",
    "    ()                                  # twitter handle\n",
    "''', information, re.X)\n",
    "\n",
    "re.findall('@[a-zA-Z0-9_] +[.com]+,+[.gov]+,+[.co.se]+,+[.co.uk]+', information)\n"
   ]
  },
  {
   "cell_type": "code",
   "execution_count": null,
   "id": "06a34eaf",
   "metadata": {},
   "outputs": [],
   "source": [
    "people = []\n",
    "for person in info:\n",
    "    person_dict = {\n",
    "        'name': person[0],\n",
    "        'email': person[1].strip(),\n",
    "        'phone': person[2][3:]\n",
    "        'title': person[4]\n",
    "        'twitter handle': person[5]\n",
    "    }\n",
    "    people.append(person_dict)\n",
    "    \n",
    "people"
   ]
  },
  {
   "cell_type": "code",
   "execution_count": null,
   "id": "40358e92",
   "metadata": {},
   "outputs": [],
   "source": [
    "for p in people:\n",
    "    print(p.get('name'))\n",
    "    print(p.get('email'))\n",
    "    print(p.get('phone'))\n",
    "    print(p.get('title'))\n",
    "    print(p.get('twitter handle'))\n",
    "    print()"
   ]
  },
  {
   "cell_type": "code",
   "execution_count": null,
   "id": "5b1e3324",
   "metadata": {},
   "outputs": [],
   "source": [
    "contact_search = re.compile('''\n",
    "    (?P<name>[\\w]+,\\s[\\w]+)                     # last_name, first_name\n",
    "    (?P<email>\\s[\\d\\w\\'-+.]+@[-.\\w\\d]+)         # email\n",
    "    (?P<phone>\\s:\\s\\(?\\d{3}\\)?\\s?-?\\d{3}-\\d{4}) # phone\n",
    "    (?p<title>\\s:\\s\\?)                          # title\n",
    "    (?p<twitter handle>\\D?\\W)                   # twitter handle\n",
    "''', re.X)"
   ]
  },
  {
   "cell_type": "code",
   "execution_count": null,
   "id": "77b0865d",
   "metadata": {},
   "outputs": [],
   "source": [
    "list(contact_search.finditer(information))"
   ]
  }
 ],
 "metadata": {
  "kernelspec": {
   "display_name": "Python 3 (ipykernel)",
   "language": "python",
   "name": "python3"
  },
  "language_info": {
   "codemirror_mode": {
    "name": "ipython",
    "version": 3
   },
   "file_extension": ".py",
   "mimetype": "text/x-python",
   "name": "python",
   "nbconvert_exporter": "python",
   "pygments_lexer": "ipython3",
   "version": "3.9.7"
  }
 },
 "nbformat": 4,
 "nbformat_minor": 5
}
